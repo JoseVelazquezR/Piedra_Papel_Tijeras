{
 "cells": [
  {
   "cell_type": "code",
   "execution_count": 1,
   "id": "27bf8a20",
   "metadata": {},
   "outputs": [
    {
     "name": "stdout",
     "output_type": "stream",
     "text": [
      "Enter a choice (Rock[0], Paper[1], Scissors[2], Lizard[3], Spock[4]): 7\n",
      "Invalid selection. Enter a value in range [0, 4]\n",
      "Enter a choice (Rock[0], Paper[1], Scissors[2], Lizard[3], Spock[4]): 0\n",
      "Both players selected Rock. It's a tie!\n",
      "Play again? (y/n): n\n"
     ]
    }
   ],
   "source": [
    "import random\n",
    "from enum import IntEnum\n",
    "\n",
    "class Action(IntEnum):\n",
    "    Rock = 0\n",
    "    Paper = 1\n",
    "    Scissors = 2\n",
    "    Lizard = 3\n",
    "    Spock = 4\n",
    "\n",
    "victories = {\n",
    "    Action.Scissors: [Action.Lizard, Action.Paper],\n",
    "    Action.Paper: [Action.Spock, Action.Rock],\n",
    "    Action.Rock: [Action.Lizard, Action.Scissors],\n",
    "    Action.Lizard: [Action.Spock, Action.Paper],\n",
    "    Action.Spock: [Action.Scissors, Action.Rock]\n",
    "}\n",
    "\n",
    "def get_user_selection():\n",
    "    choices = [f\"{action.name}[{action.value}]\" for action in Action]\n",
    "    choices_str = \", \".join(choices)\n",
    "    selection = int(input(f\"Enter a choice ({choices_str}): \"))\n",
    "    action = Action(selection)\n",
    "    return action\n",
    "\n",
    "def get_computer_selection():\n",
    "    selection = random.randint(0, len(Action) - 1)\n",
    "    action = Action(selection)\n",
    "    return action\n",
    "\n",
    "def determine_winner(user_action, computer_action):\n",
    "    defeats = victories[user_action]\n",
    "    if user_action == computer_action:\n",
    "        print(f\"Both players selected {user_action.name}. It's a tie!\")\n",
    "    elif computer_action in defeats:\n",
    "        print(f\"{user_action.name} beats {computer_action.name}! You win!\")\n",
    "    else:\n",
    "        print(f\"{computer_action.name} beats {user_action.name}! You lose.\")\n",
    "\n",
    "while True:\n",
    "    try:\n",
    "        user_action = get_user_selection()\n",
    "    except ValueError as e:\n",
    "        range_str = f\"[0, {len(Action) - 1}]\"\n",
    "        print(f\"Invalid selection. Enter a value in range {range_str}\")\n",
    "        continue\n",
    "\n",
    "    computer_action = get_computer_selection()\n",
    "    determine_winner(user_action, computer_action)\n",
    "\n",
    "    play_again = input(\"Play again? (y/n): \")\n",
    "    if play_again.lower() != \"y\":\n",
    "        break"
   ]
  },
  {
   "cell_type": "code",
   "execution_count": null,
   "id": "2c568767",
   "metadata": {},
   "outputs": [],
   "source": []
  }
 ],
 "metadata": {
  "kernelspec": {
   "display_name": "Python 3 (ipykernel)",
   "language": "python",
   "name": "python3"
  },
  "language_info": {
   "codemirror_mode": {
    "name": "ipython",
    "version": 3
   },
   "file_extension": ".py",
   "mimetype": "text/x-python",
   "name": "python",
   "nbconvert_exporter": "python",
   "pygments_lexer": "ipython3",
   "version": "3.10.3"
  }
 },
 "nbformat": 4,
 "nbformat_minor": 5
}
